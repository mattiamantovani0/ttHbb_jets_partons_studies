{
 "cells": [
  {
   "cell_type": "code",
   "execution_count": 2,
   "id": "526c9db3-ef2e-4c74-8fe9-dd865ac2882c",
   "metadata": {},
   "outputs": [],
   "source": [
    "import matplotlib.pyplot as plt\n",
    "from matplotlib.colors import LogNorm\n",
    "import mplhep as hep\n",
    "import numpy as np\n",
    "import pandas as pd\n",
    "import awkward as ak\n",
    "from numba import njit\n",
    "import vector\n",
    "vector.register_numba()\n",
    "vector.register_awkward()\n",
    "import torch\n",
    "import scipy\n",
    "\n",
    "from pprint import pprint \n",
    "hep.style.use(hep.style.ROOT)\n",
    "\n",
    "import hist\n",
    "import plot_loss\n",
    "from torch import optim\n",
    "from tqdm.notebook import trange\n",
    "\n",
    "from sklearn.preprocessing import StandardScaler"
   ]
  },
  {
   "cell_type": "markdown",
   "id": "e561fb09-7da6-4fbb-9c71-b27e1b3d268b",
   "metadata": {},
   "source": [
    "# Prepare the dataset"
   ]
  },
  {
   "cell_type": "code",
   "execution_count": 3,
   "id": "6536f9ab-019e-4cc4-8480-b14e0dc3e04d",
   "metadata": {},
   "outputs": [],
   "source": [
    "#df = ak.from_parquet(\"/eos/user/d/dvalsecc/www/ttHbbAnalysis/training_dataset/all_jets_v6.parquet\")\n",
    "df = ak.from_parquet(\"all_jets_v6.parquet\")"
   ]
  },
  {
   "cell_type": "code",
   "execution_count": 4,
   "id": "2a979629-aa1d-47b8-b6e3-e3e4a9c3c801",
   "metadata": {},
   "outputs": [],
   "source": [
    "(jets,\n",
    "partons_matched,\n",
    "partons,\n",
    "generator_info,\n",
    "lepton_partons,\n",
    "lepton_reco, \n",
    "met\n",
    ") = ak.unzip(df)\n",
    "\n",
    "jets = ak.with_name(jets, name=\"Momentum4D\")\n",
    "partons_matched = ak.with_name(partons_matched, name=\"Momentum4D\")\n",
    "partons = ak.with_name(partons, name=\"Momentum4D\")\n",
    "lepton_partons = ak.with_name(lepton_partons, name=\"Momentum4D\")\n",
    "lepton_reco = ak.with_name(lepton_reco, name=\"Momentum4D\")\n",
    "met = ak.with_name(met, name=\"Momentum4D\")"
   ]
  },
  {
   "cell_type": "code",
   "execution_count": 5,
   "id": "ee8725fc-4319-4b8b-acc1-2feba4f10fdd",
   "metadata": {},
   "outputs": [],
   "source": [
    "@njit\n",
    "def sum_vectors_all(arrays):\n",
    "    size = len(arrays)\n",
    "    results = np.zeros((size, 4))\n",
    "    for i, array in enumerate(arrays):\n",
    "        total = vector.obj(px=0.0, py=0.0, pz=0.0, E=0.0)\n",
    "        for v in array:\n",
    "            total = total + v\n",
    "        results[i, 0] = total.px\n",
    "        results[i, 1] = total.py\n",
    "        results[i, 2] = total.pz\n",
    "        results[i, 3] = total.E\n",
    "    return results\n",
    "\n",
    "\n",
    "def get_vector_sum(vectors):\n",
    "    out = sum_vectors_all(vectors)\n",
    "    return vector.awk({\n",
    "        \"px\": out[:, 0],\n",
    "        \"py\": out[:, 1],\n",
    "        \"pz\": out[:, 2],\n",
    "        \"E\": out[:, 3],\n",
    "    })"
   ]
  },
  {
   "cell_type": "code",
   "execution_count": 6,
   "id": "fbd01fc4-3d2c-4562-90ee-cdad43107204",
   "metadata": {},
   "outputs": [],
   "source": [
    "boost_jets = get_vector_sum(jets)\n",
    "boost_reco = boost_jets + lepton_reco + met\n",
    "\n",
    "initial_pz = 6500*(generator_info.x1 - generator_info.x2)\n",
    "initial_E = 6500*(generator_info.x1 + generator_info.x2)\n",
    "\n",
    "initial_boost = ak.Array(\n",
    "    {\"px\": np.zeros_like(initial_pz), \"py\": np.zeros_like(initial_pz), \"pz\": initial_pz, \"E\": initial_E},\n",
    "    with_name=\"Momentum4D\"\n",
    ")"
   ]
  },
  {
   "cell_type": "markdown",
   "id": "69b2e148-f0ea-4bcc-b859-3c253c43ae1c",
   "metadata": {},
   "source": [
    "## Convert the dataset to torch"
   ]
  },
  {
   "cell_type": "code",
   "execution_count": 7,
   "id": "4d3b15b8-f88d-4eed-8296-08f972d9a711",
   "metadata": {},
   "outputs": [
    {
     "data": {
      "text/plain": [
       "array([[ 557.26771986,  707.36037147],\n",
       "       [1952.8069725 , 2215.60626402],\n",
       "       [-432.7080822 ,  684.2705409 ],\n",
       "       ...,\n",
       "       [-647.29124928, 1052.08657337],\n",
       "       [-503.69562626,  882.34073397],\n",
       "       [  -7.0186224 , 1141.42667515]])"
      ]
     },
     "execution_count": 7,
     "metadata": {},
     "output_type": "execute_result"
    }
   ],
   "source": [
    "#Column 1 is pz, column 2 is E\n",
    "y_cond = np.stack( [ \n",
    "    ak.to_numpy(boost_reco.pz, allow_missing=None),\n",
    "    ak.to_numpy(boost_reco.E, allow_missing=None)]).T"
   ]
  },
  {
   "cell_type": "code",
   "execution_count": 8,
   "id": "e94e9e67-036a-45d5-a7e6-d1b6f30def03",
   "metadata": {},
   "outputs": [],
   "source": [
    "# Rescaling\n",
    "#Y_scaled = torch.from_numpy(np.sign(y_cond)*np.log(abs(y_cond))).float()\n",
    "#Y_scaled[:,1] -= 7\n",
    "\n",
    "scaler = StandardScaler()\n",
    "\n",
    "Y_scaled = torch.from_numpy(scaler.fit_transform(y_cond)).float()\n",
    "\n",
    "x_target = np.stack( [ \n",
    "    ak.to_numpy(generator_info.x1, allow_missing=None),\n",
    "    ak.to_numpy(generator_info.x2, allow_missing=None)]).T\n",
    "\n",
    "x_target_torch = torch.from_numpy(x_target).float()\n",
    "\n",
    "# transform it to pz and E\n",
    "X = torch.zeros_like(x_target_torch)\n",
    "X[:,0] = 6500*(x_target_torch[:,0]-x_target_torch[:,1])\n",
    "X[:,1] = 6500*(x_target_torch[:,0]+x_target_torch[:,1])\n",
    "\n",
    "\n",
    "X_scaled = torch.from_numpy(scaler.transform(X)).float()"
   ]
  },
  {
   "cell_type": "code",
   "execution_count": null,
   "id": "1924140a-3dd6-4239-8830-985f2562d801",
   "metadata": {},
   "outputs": [],
   "source": [
    "plt.hist(y_cond[:,0], bins=100, histtype=\"step\", label=\"not scaled - Pz\");\n",
    "plt.hist(y_cond[:,1], bins=100, histtype=\"step\", label=\"not scale - E\");\n",
    "plt.yscale(\"log\")\n",
    "plt.title(\"conditioning\")\n",
    "plt.legend()\n",
    "plt.show()\n",
    "\n",
    "plt.hist(Y_scaled[:,0].numpy(), bins=100, histtype=\"step\", label=\"scaled - Pz\");\n",
    "plt.hist(Y_scaled[:,1].numpy(), bins=100, histtype=\"step\", label=\"scaled - E\");\n",
    "plt.yscale(\"log\")\n",
    "plt.title(\"conditioning (scaled)\")\n",
    "plt.legend()\n",
    "plt.show()"
   ]
  },
  {
   "cell_type": "code",
   "execution_count": null,
   "id": "09aacaba",
   "metadata": {},
   "outputs": [],
   "source": [
    "plt.hist(X[:,0].numpy(), bins=100, histtype=\"step\", label=\"not scaled - Pz\");\n",
    "plt.hist(X[:,1].numpy(), bins=100, histtype=\"step\", label=\"not scale - E\");\n",
    "plt.yscale(\"log\")\n",
    "plt.title(\"target\")\n",
    "plt.legend()\n",
    "plt.show()\n",
    "\n",
    "plt.hist(X_scaled[:,0].numpy(), bins=100, histtype=\"step\", label=\"scaled - Pz\");\n",
    "plt.hist(X_scaled[:,1].numpy(), bins=100, histtype=\"step\", label=\"scaled - E\");\n",
    "plt.yscale(\"log\")\n",
    "plt.title(\"target (scaled)\")\n",
    "plt.legend()\n",
    "plt.show()"
   ]
  },
  {
   "cell_type": "code",
   "execution_count": null,
   "id": "a05a3740-ed6f-43fd-85e0-ac90ebcc7ae5",
   "metadata": {},
   "outputs": [],
   "source": [
    "plt.hist2d(X[:,1].numpy(),\n",
    "           y_cond[:,1],\n",
    "           bins=[100,100],cmap=\"inferno\", cmin=1, norm=LogNorm());\n",
    "plt.xlabel(\"E target\")\n",
    "plt.ylabel(\"E reco (conditioning)\")\n",
    "plt.show()\n",
    "\n",
    "plt.hist2d(X_scaled[:,1].numpy(),\n",
    "           Y_scaled[:,1].numpy(),\n",
    "           bins=[100,100], cmap=\"inferno\", cmin=1, norm=LogNorm());\n",
    "plt.xlabel(\"E target (scaled)\")\n",
    "plt.ylabel(\"E reco (conditioning) - scaled\")\n",
    "plt.show()"
   ]
  },
  {
   "cell_type": "code",
   "execution_count": null,
   "id": "b6093275-dee8-4a66-a0dd-c3f5130dbdeb",
   "metadata": {},
   "outputs": [],
   "source": [
    "plt.hist2d(X[:,0].numpy(),\n",
    "           y_cond[:,0],\n",
    "           bins=[100,100],cmap=\"inferno\", cmin=1, norm=LogNorm());\n",
    "plt.xlabel(\"Pz target\")\n",
    "plt.ylabel(\"Pz reco (conditioning)\")\n",
    "plt.show()\n",
    "\n",
    "plt.hist2d(X_scaled[:,0].numpy(),\n",
    "           Y_scaled[:,0].numpy(),\n",
    "           bins=[100,100],\n",
    "           range=[[-10,10],[-10,10]], cmap=\"inferno\", cmin=1, norm=LogNorm());\n",
    "plt.xlabel(\"Pz target (scaled)\")\n",
    "plt.ylabel(\"Pz reco (conditioning) - scaled\")\n",
    "plt.show()"
   ]
  },
  {
   "cell_type": "code",
   "execution_count": null,
   "id": "6832ebdd",
   "metadata": {},
   "outputs": [],
   "source": [
    "plt.hist2d(y_cond[:,0],\n",
    "           y_cond[:,1],\n",
    "           bins=[100,100], range=[[-4000, 4000], [0,4000]], cmap=\"inferno\", cmin=1, norm=LogNorm());\n",
    "plt.xlabel(\"Pz reco (conditioning)\")\n",
    "plt.ylabel(\"E reco (conditioning)\")\n",
    "plt.show()"
   ]
  },
  {
   "cell_type": "markdown",
   "id": "49e48dd7-cb4e-425c-943d-27dc92f872cf",
   "metadata": {},
   "source": [
    "# Define the flow"
   ]
  },
  {
   "cell_type": "code",
   "execution_count": 9,
   "id": "3e73215e-0948-4c1e-82f2-5c4d579ba60d",
   "metadata": {},
   "outputs": [],
   "source": [
    "import zuko\n",
    "from zuko.flows import TransformModule, SimpleAffineTransform\n",
    "from zuko.distributions import BoxUniform, DiagNormal"
   ]
  },
  {
   "cell_type": "code",
   "execution_count": 10,
   "id": "4923fb1c-89c1-4508-b478-886b53a6328e",
   "metadata": {},
   "outputs": [],
   "source": [
    "def build_flow(features, ntransforms=4, context=None, hidden_mlp=[32]*3, bins=8, autoregressive=True):\n",
    "    flow = zuko.flows.NSF(features, context=context, transforms=ntransforms, bins=bins, hidden_features=hidden_mlp, \n",
    "                      randperm=True,\n",
    "                      base=BoxUniform,\n",
    "                      base_args=[torch.ones(features)*(-1),torch.ones(features)],\n",
    "                      univariate_kwargs={\"bound\": 1 }, # Keeping the flow in the [-1,1] box.\n",
    "                      passes = 2 if not autoregressive else features)\n",
    "\n",
    "    flow.transforms.insert(0, SimpleAffineTransform(0*torch.ones(features),1*torch.ones(features),\n",
    "                                                 -1*torch.ones(features), 1*torch.ones(features)))\n",
    "    \n",
    "    return flow\n",
    "\n",
    "def build_flow_gauss(features, ntransforms=4, context=None, hidden_mlp=[32]*3, bins=8, autoregressive=True):\n",
    "    flow = zuko.flows.NSF(features, context=context, transforms=ntransforms, bins=bins, hidden_features=hidden_mlp, \n",
    "                      randperm=True,\n",
    "                      base=DiagNormal,\n",
    "                      univariate_kwargs={\"bound\": 10},\n",
    "                      passes= 2 if not autoregressive else features)\n",
    "    return flow\n",
    "\n",
    "def count_parameters(model):\n",
    "    return sum(p.numel() for p in model.parameters() if p.requires_grad)"
   ]
  },
  {
   "cell_type": "code",
   "execution_count": 13,
   "id": "b95342be",
   "metadata": {},
   "outputs": [],
   "source": [
    "#flow = zuko.flows.MAF(2, context=2, transforms=6, hidden_features=[32, 32], \n",
    "#                      randperm=True,\n",
    "#                      base=DiagNormal)\n",
    "\n",
    "#flow = build_flow(features=2, ntransforms=3, context=2, hidden_mlp=[32], bins=8, autoregressive=True)\n",
    "\n",
    "flow = build_flow_gauss(features=2, ntransforms=4, context=2, hidden_mlp=[32]*2, bins=8, autoregressive=True)"
   ]
  },
  {
   "cell_type": "code",
   "execution_count": null,
   "id": "b48cacee-9733-4cbf-b545-09d779e0cc5d",
   "metadata": {},
   "outputs": [],
   "source": [
    "out = flow(Y_scaled[0:10000]).sample((1, )).squeeze(0)\n",
    "out.shape"
   ]
  },
  {
   "cell_type": "code",
   "execution_count": null,
   "id": "e6a4433b-1ac7-429d-b1ed-3a67504befd8",
   "metadata": {},
   "outputs": [],
   "source": [
    "plt.hist2d(out[:,0].numpy(), \n",
    "           Y_scaled[0:10000, 0].numpy(), \n",
    "          bins=100,cmap=\"inferno\", cmin=1, norm=LogNorm())\n",
    "plt.xlabel(\"Pz generated\")\n",
    "plt.ylabel(\"Pz reco (conditioning)\")\n",
    "plt.title(\"no training\")\n",
    "plt.show()"
   ]
  },
  {
   "cell_type": "code",
   "execution_count": null,
   "id": "34f04c1f-ce12-4599-b0c1-e1d2d025987c",
   "metadata": {},
   "outputs": [],
   "source": [
    "plt.hist2d(out[:,0].numpy(), out[:,1].numpy(),\n",
    "           bins=100, cmap=\"inferno\", cmin=1, norm=LogNorm());"
   ]
  },
  {
   "cell_type": "markdown",
   "id": "9fb870f8-a478-456d-9068-5546cedfb207",
   "metadata": {},
   "source": [
    "# Training loop"
   ]
  },
  {
   "cell_type": "code",
   "execution_count": 14,
   "id": "5a4757a5-c69c-4785-819a-306eb5744db8",
   "metadata": {},
   "outputs": [],
   "source": [
    "nepochs = 50\n",
    "batch_size = 2048\n",
    "lr_init = 0.0001\n",
    "N_training_samples = len(Y_scaled)"
   ]
  },
  {
   "cell_type": "code",
   "execution_count": 20,
   "id": "d4b9c3e7-3d48-4797-b717-496a345a5b6c",
   "metadata": {},
   "outputs": [
    {
     "name": "stdout",
     "output_type": "stream",
     "text": [
      "8296\n"
     ]
    }
   ],
   "source": [
    "flow = build_flow_gauss(features=2, ntransforms=4, context=2, hidden_mlp=[32], bins=10, autoregressive=True)\n",
    "flow = flow.to(\"cuda\")\n",
    "optimizer = optim.Adam(flow.parameters(), lr=lr_init)\n",
    "\n",
    "#decay = 0.01\n",
    "#fcn = lambda step: 1./(1. + decay*step)\n",
    "#scheduler = torch.optim.lr_scheduler.LambdaLR(optimizer, lr_lambda=fcn)\n",
    "\n",
    "plotter = plot_loss.LossPlotter([\"loss\"])\n",
    "\n",
    "print(count_parameters(flow))"
   ]
  },
  {
   "cell_type": "code",
   "execution_count": 21,
   "id": "c801f7a3",
   "metadata": {},
   "outputs": [],
   "source": [
    "X_scaled = X_scaled.to(\"cuda\")\n",
    "Y_scaled = Y_scaled.to(\"cuda\")"
   ]
  },
  {
   "cell_type": "code",
   "execution_count": 22,
   "id": "dafdc911-7719-43d5-9dea-0c4dc8cdbb0b",
   "metadata": {
    "scrolled": true,
    "tags": []
   },
   "outputs": [
    {
     "data": {
      "application/vnd.jupyter.widget-view+json": {
       "model_id": "8a810e492dac4820ac534c1114b649e2",
       "version_major": 2,
       "version_minor": 0
      },
      "text/plain": [
       "Epoch:   0%|          | 0/50 [00:00<?, ?it/s]"
      ]
     },
     "metadata": {},
     "output_type": "display_data"
    },
    {
     "data": {
      "application/vnd.jupyter.widget-view+json": {
       "model_id": "bda5b2ec38294fcdbb3f6227b48cc6e3",
       "version_major": 2,
       "version_minor": 0
      },
      "text/plain": [
       "Batch:   0%|          | 0/286 [00:00<?, ?it/s]"
      ]
     },
     "metadata": {},
     "output_type": "display_data"
    },
    {
     "data": {
      "application/vnd.jupyter.widget-view+json": {
       "model_id": "d4df325cfa364d01a4e20182f7371849",
       "version_major": 2,
       "version_minor": 0
      },
      "text/plain": [
       "Batch:   0%|          | 0/286 [00:00<?, ?it/s]"
      ]
     },
     "metadata": {},
     "output_type": "display_data"
    },
    {
     "data": {
      "application/vnd.jupyter.widget-view+json": {
       "model_id": "11021842b5b1434781c1fba8c93d2699",
       "version_major": 2,
       "version_minor": 0
      },
      "text/plain": [
       "Batch:   0%|          | 0/286 [00:00<?, ?it/s]"
      ]
     },
     "metadata": {},
     "output_type": "display_data"
    },
    {
     "data": {
      "application/vnd.jupyter.widget-view+json": {
       "model_id": "8f6508fbd9d0421597febdd2b643c3da",
       "version_major": 2,
       "version_minor": 0
      },
      "text/plain": [
       "Batch:   0%|          | 0/286 [00:00<?, ?it/s]"
      ]
     },
     "metadata": {},
     "output_type": "display_data"
    },
    {
     "ename": "KeyboardInterrupt",
     "evalue": "",
     "output_type": "error",
     "traceback": [
      "\u001b[0;31m---------------------------------------------------------------------------\u001b[0m",
      "\u001b[0;31mKeyboardInterrupt\u001b[0m                         Traceback (most recent call last)",
      "\u001b[0;32m/tmp/ipykernel_384/3845965029.py\u001b[0m in \u001b[0;36m<module>\u001b[0;34m\u001b[0m\n\u001b[1;32m      9\u001b[0m         \u001b[0moptimizer\u001b[0m\u001b[0;34m.\u001b[0m\u001b[0mzero_grad\u001b[0m\u001b[0;34m(\u001b[0m\u001b[0;34m)\u001b[0m\u001b[0;34m\u001b[0m\u001b[0;34m\u001b[0m\u001b[0m\n\u001b[1;32m     10\u001b[0m \u001b[0;34m\u001b[0m\u001b[0m\n\u001b[0;32m---> 11\u001b[0;31m         \u001b[0mlogp_g\u001b[0m \u001b[0;34m=\u001b[0m  \u001b[0mflow\u001b[0m\u001b[0;34m(\u001b[0m\u001b[0mY_scaled\u001b[0m\u001b[0;34m[\u001b[0m\u001b[0mindices\u001b[0m\u001b[0;34m]\u001b[0m\u001b[0;34m)\u001b[0m\u001b[0;34m.\u001b[0m\u001b[0mlog_prob\u001b[0m\u001b[0;34m(\u001b[0m\u001b[0mX_scaled\u001b[0m\u001b[0;34m[\u001b[0m\u001b[0mindices\u001b[0m\u001b[0;34m]\u001b[0m\u001b[0;34m)\u001b[0m\u001b[0;34m\u001b[0m\u001b[0;34m\u001b[0m\u001b[0m\n\u001b[0m\u001b[1;32m     12\u001b[0m \u001b[0;34m\u001b[0m\u001b[0m\n\u001b[1;32m     13\u001b[0m         \u001b[0mloss\u001b[0m \u001b[0;34m=\u001b[0m  \u001b[0;34m-\u001b[0m \u001b[0mlogp_g\u001b[0m\u001b[0;34m.\u001b[0m\u001b[0mmean\u001b[0m\u001b[0;34m(\u001b[0m\u001b[0;34m)\u001b[0m\u001b[0;34m\u001b[0m\u001b[0;34m\u001b[0m\u001b[0m\n",
      "\u001b[0;32m~/.local/lib/python3.9/site-packages/zuko/distributions.py\u001b[0m in \u001b[0;36mlog_prob\u001b[0;34m(self, x)\u001b[0m\n\u001b[1;32m    104\u001b[0m \u001b[0;34m\u001b[0m\u001b[0m\n\u001b[1;32m    105\u001b[0m     \u001b[0;32mdef\u001b[0m \u001b[0mlog_prob\u001b[0m\u001b[0;34m(\u001b[0m\u001b[0mself\u001b[0m\u001b[0;34m,\u001b[0m \u001b[0mx\u001b[0m\u001b[0;34m:\u001b[0m \u001b[0mTensor\u001b[0m\u001b[0;34m)\u001b[0m \u001b[0;34m->\u001b[0m \u001b[0mTensor\u001b[0m\u001b[0;34m:\u001b[0m\u001b[0;34m\u001b[0m\u001b[0;34m\u001b[0m\u001b[0m\n\u001b[0;32m--> 106\u001b[0;31m         \u001b[0mz\u001b[0m\u001b[0;34m,\u001b[0m \u001b[0mladj\u001b[0m \u001b[0;34m=\u001b[0m \u001b[0mself\u001b[0m\u001b[0;34m.\u001b[0m\u001b[0mtransform\u001b[0m\u001b[0;34m.\u001b[0m\u001b[0mcall_and_ladj\u001b[0m\u001b[0;34m(\u001b[0m\u001b[0mx\u001b[0m\u001b[0;34m)\u001b[0m\u001b[0;34m\u001b[0m\u001b[0;34m\u001b[0m\u001b[0m\n\u001b[0m\u001b[1;32m    107\u001b[0m         \u001b[0mladj\u001b[0m \u001b[0;34m=\u001b[0m \u001b[0m_sum_rightmost\u001b[0m\u001b[0;34m(\u001b[0m\u001b[0mladj\u001b[0m\u001b[0;34m,\u001b[0m \u001b[0mself\u001b[0m\u001b[0;34m.\u001b[0m\u001b[0mreinterpreted\u001b[0m\u001b[0;34m)\u001b[0m\u001b[0;34m\u001b[0m\u001b[0;34m\u001b[0m\u001b[0m\n\u001b[1;32m    108\u001b[0m \u001b[0;34m\u001b[0m\u001b[0m\n",
      "\u001b[0;32m~/.local/lib/python3.9/site-packages/zuko/transforms.py\u001b[0m in \u001b[0;36mcall_and_ladj\u001b[0;34m(self, x)\u001b[0m\n\u001b[1;32m    121\u001b[0m \u001b[0;34m\u001b[0m\u001b[0m\n\u001b[1;32m    122\u001b[0m         \u001b[0;32mfor\u001b[0m \u001b[0mt\u001b[0m \u001b[0;32min\u001b[0m \u001b[0mself\u001b[0m\u001b[0;34m.\u001b[0m\u001b[0mtransforms\u001b[0m\u001b[0;34m:\u001b[0m\u001b[0;34m\u001b[0m\u001b[0;34m\u001b[0m\u001b[0m\n\u001b[0;32m--> 123\u001b[0;31m             \u001b[0mx\u001b[0m\u001b[0;34m,\u001b[0m \u001b[0mladj\u001b[0m \u001b[0;34m=\u001b[0m \u001b[0mt\u001b[0m\u001b[0;34m.\u001b[0m\u001b[0mcall_and_ladj\u001b[0m\u001b[0;34m(\u001b[0m\u001b[0mx\u001b[0m\u001b[0;34m)\u001b[0m\u001b[0;34m\u001b[0m\u001b[0;34m\u001b[0m\u001b[0m\n\u001b[0m\u001b[1;32m    124\u001b[0m             \u001b[0macc\u001b[0m \u001b[0;34m=\u001b[0m \u001b[0macc\u001b[0m \u001b[0;34m+\u001b[0m \u001b[0m_sum_rightmost\u001b[0m\u001b[0;34m(\u001b[0m\u001b[0mladj\u001b[0m\u001b[0;34m,\u001b[0m \u001b[0mevent_dim\u001b[0m \u001b[0;34m-\u001b[0m \u001b[0mt\u001b[0m\u001b[0;34m.\u001b[0m\u001b[0mdomain\u001b[0m\u001b[0;34m.\u001b[0m\u001b[0mevent_dim\u001b[0m\u001b[0;34m)\u001b[0m\u001b[0;34m\u001b[0m\u001b[0;34m\u001b[0m\u001b[0m\n\u001b[1;32m    125\u001b[0m             \u001b[0mevent_dim\u001b[0m \u001b[0;34m+=\u001b[0m \u001b[0mt\u001b[0m\u001b[0;34m.\u001b[0m\u001b[0mcodomain\u001b[0m\u001b[0;34m.\u001b[0m\u001b[0mevent_dim\u001b[0m \u001b[0;34m-\u001b[0m \u001b[0mt\u001b[0m\u001b[0;34m.\u001b[0m\u001b[0mdomain\u001b[0m\u001b[0;34m.\u001b[0m\u001b[0mevent_dim\u001b[0m\u001b[0;34m\u001b[0m\u001b[0;34m\u001b[0m\u001b[0m\n",
      "\u001b[0;32m~/.local/lib/python3.9/site-packages/zuko/transforms.py\u001b[0m in \u001b[0;36mcall_and_ladj\u001b[0;34m(self, x)\u001b[0m\n\u001b[1;32m    724\u001b[0m \u001b[0;34m\u001b[0m\u001b[0m\n\u001b[1;32m    725\u001b[0m     \u001b[0;32mdef\u001b[0m \u001b[0mcall_and_ladj\u001b[0m\u001b[0;34m(\u001b[0m\u001b[0mself\u001b[0m\u001b[0;34m,\u001b[0m \u001b[0mx\u001b[0m\u001b[0;34m:\u001b[0m \u001b[0mTensor\u001b[0m\u001b[0;34m)\u001b[0m \u001b[0;34m->\u001b[0m \u001b[0mTuple\u001b[0m\u001b[0;34m[\u001b[0m\u001b[0mTensor\u001b[0m\u001b[0;34m,\u001b[0m \u001b[0mTensor\u001b[0m\u001b[0;34m]\u001b[0m\u001b[0;34m:\u001b[0m\u001b[0;34m\u001b[0m\u001b[0;34m\u001b[0m\u001b[0m\n\u001b[0;32m--> 726\u001b[0;31m         \u001b[0my\u001b[0m\u001b[0;34m,\u001b[0m \u001b[0mladj\u001b[0m \u001b[0;34m=\u001b[0m \u001b[0mself\u001b[0m\u001b[0;34m.\u001b[0m\u001b[0mmeta\u001b[0m\u001b[0;34m(\u001b[0m\u001b[0mx\u001b[0m\u001b[0;34m)\u001b[0m\u001b[0;34m.\u001b[0m\u001b[0mcall_and_ladj\u001b[0m\u001b[0;34m(\u001b[0m\u001b[0mx\u001b[0m\u001b[0;34m)\u001b[0m\u001b[0;34m\u001b[0m\u001b[0;34m\u001b[0m\u001b[0m\n\u001b[0m\u001b[1;32m    727\u001b[0m         \u001b[0;32mreturn\u001b[0m \u001b[0my\u001b[0m\u001b[0;34m,\u001b[0m \u001b[0mladj\u001b[0m\u001b[0;34m.\u001b[0m\u001b[0msum\u001b[0m\u001b[0;34m(\u001b[0m\u001b[0mdim\u001b[0m\u001b[0;34m=\u001b[0m\u001b[0;34m-\u001b[0m\u001b[0;36m1\u001b[0m\u001b[0;34m)\u001b[0m\u001b[0;34m\u001b[0m\u001b[0;34m\u001b[0m\u001b[0m\n\u001b[1;32m    728\u001b[0m \u001b[0;34m\u001b[0m\u001b[0m\n",
      "\u001b[0;32m~/.local/lib/python3.9/site-packages/zuko/transforms.py\u001b[0m in \u001b[0;36mcall_and_ladj\u001b[0;34m(self, x)\u001b[0m\n\u001b[1;32m    445\u001b[0m     \u001b[0;32mdef\u001b[0m \u001b[0mcall_and_ladj\u001b[0m\u001b[0;34m(\u001b[0m\u001b[0mself\u001b[0m\u001b[0;34m,\u001b[0m \u001b[0mx\u001b[0m\u001b[0;34m:\u001b[0m \u001b[0mTensor\u001b[0m\u001b[0;34m)\u001b[0m \u001b[0;34m->\u001b[0m \u001b[0mTuple\u001b[0m\u001b[0;34m[\u001b[0m\u001b[0mTensor\u001b[0m\u001b[0;34m,\u001b[0m \u001b[0mTensor\u001b[0m\u001b[0;34m]\u001b[0m\u001b[0;34m:\u001b[0m\u001b[0;34m\u001b[0m\u001b[0;34m\u001b[0m\u001b[0m\n\u001b[1;32m    446\u001b[0m         \u001b[0mk\u001b[0m \u001b[0;34m=\u001b[0m \u001b[0mself\u001b[0m\u001b[0;34m.\u001b[0m\u001b[0msearchsorted\u001b[0m\u001b[0;34m(\u001b[0m\u001b[0mself\u001b[0m\u001b[0;34m.\u001b[0m\u001b[0mhorizontal\u001b[0m\u001b[0;34m,\u001b[0m \u001b[0mx\u001b[0m\u001b[0;34m)\u001b[0m \u001b[0;34m-\u001b[0m \u001b[0;36m1\u001b[0m\u001b[0;34m\u001b[0m\u001b[0;34m\u001b[0m\u001b[0m\n\u001b[0;32m--> 447\u001b[0;31m         \u001b[0mmask\u001b[0m\u001b[0;34m,\u001b[0m \u001b[0mx0\u001b[0m\u001b[0;34m,\u001b[0m \u001b[0mx1\u001b[0m\u001b[0;34m,\u001b[0m \u001b[0my0\u001b[0m\u001b[0;34m,\u001b[0m \u001b[0my1\u001b[0m\u001b[0;34m,\u001b[0m \u001b[0md0\u001b[0m\u001b[0;34m,\u001b[0m \u001b[0md1\u001b[0m\u001b[0;34m,\u001b[0m \u001b[0ms\u001b[0m \u001b[0;34m=\u001b[0m \u001b[0mself\u001b[0m\u001b[0;34m.\u001b[0m\u001b[0mbin\u001b[0m\u001b[0;34m(\u001b[0m\u001b[0mk\u001b[0m\u001b[0;34m)\u001b[0m\u001b[0;34m\u001b[0m\u001b[0;34m\u001b[0m\u001b[0m\n\u001b[0m\u001b[1;32m    448\u001b[0m \u001b[0;34m\u001b[0m\u001b[0m\n\u001b[1;32m    449\u001b[0m         \u001b[0mz\u001b[0m \u001b[0;34m=\u001b[0m \u001b[0mmask\u001b[0m \u001b[0;34m*\u001b[0m \u001b[0;34m(\u001b[0m\u001b[0mx\u001b[0m \u001b[0;34m-\u001b[0m \u001b[0mx0\u001b[0m\u001b[0;34m)\u001b[0m \u001b[0;34m/\u001b[0m \u001b[0;34m(\u001b[0m\u001b[0mx1\u001b[0m \u001b[0;34m-\u001b[0m \u001b[0mx0\u001b[0m\u001b[0;34m)\u001b[0m\u001b[0;34m\u001b[0m\u001b[0;34m\u001b[0m\u001b[0m\n",
      "\u001b[0;32m~/.local/lib/python3.9/site-packages/zuko/transforms.py\u001b[0m in \u001b[0;36mbin\u001b[0;34m(self, k)\u001b[0m\n\u001b[1;32m    399\u001b[0m         )\n\u001b[1;32m    400\u001b[0m \u001b[0;34m\u001b[0m\u001b[0m\n\u001b[0;32m--> 401\u001b[0;31m         \u001b[0mx0\u001b[0m\u001b[0;34m,\u001b[0m \u001b[0mx1\u001b[0m \u001b[0;34m=\u001b[0m \u001b[0mhs\u001b[0m\u001b[0;34m.\u001b[0m\u001b[0mgather\u001b[0m\u001b[0;34m(\u001b[0m\u001b[0;34m-\u001b[0m\u001b[0;36m1\u001b[0m\u001b[0;34m,\u001b[0m \u001b[0mk0_k1\u001b[0m\u001b[0;34m)\u001b[0m\u001b[0;34m.\u001b[0m\u001b[0msqueeze\u001b[0m\u001b[0;34m(\u001b[0m\u001b[0mdim\u001b[0m\u001b[0;34m=\u001b[0m\u001b[0;34m-\u001b[0m\u001b[0;36m1\u001b[0m\u001b[0;34m)\u001b[0m\u001b[0;34m\u001b[0m\u001b[0;34m\u001b[0m\u001b[0m\n\u001b[0m\u001b[1;32m    402\u001b[0m         \u001b[0my0\u001b[0m\u001b[0;34m,\u001b[0m \u001b[0my1\u001b[0m \u001b[0;34m=\u001b[0m \u001b[0mvs\u001b[0m\u001b[0;34m.\u001b[0m\u001b[0mgather\u001b[0m\u001b[0;34m(\u001b[0m\u001b[0;34m-\u001b[0m\u001b[0;36m1\u001b[0m\u001b[0;34m,\u001b[0m \u001b[0mk0_k1\u001b[0m\u001b[0;34m)\u001b[0m\u001b[0;34m.\u001b[0m\u001b[0msqueeze\u001b[0m\u001b[0;34m(\u001b[0m\u001b[0mdim\u001b[0m\u001b[0;34m=\u001b[0m\u001b[0;34m-\u001b[0m\u001b[0;36m1\u001b[0m\u001b[0;34m)\u001b[0m\u001b[0;34m\u001b[0m\u001b[0;34m\u001b[0m\u001b[0m\n\u001b[1;32m    403\u001b[0m         \u001b[0md0\u001b[0m\u001b[0;34m,\u001b[0m \u001b[0md1\u001b[0m \u001b[0;34m=\u001b[0m \u001b[0mds\u001b[0m\u001b[0;34m.\u001b[0m\u001b[0mgather\u001b[0m\u001b[0;34m(\u001b[0m\u001b[0;34m-\u001b[0m\u001b[0;36m1\u001b[0m\u001b[0;34m,\u001b[0m \u001b[0mk0_k1\u001b[0m\u001b[0;34m)\u001b[0m\u001b[0;34m.\u001b[0m\u001b[0msqueeze\u001b[0m\u001b[0;34m(\u001b[0m\u001b[0mdim\u001b[0m\u001b[0;34m=\u001b[0m\u001b[0;34m-\u001b[0m\u001b[0;36m1\u001b[0m\u001b[0;34m)\u001b[0m\u001b[0;34m\u001b[0m\u001b[0;34m\u001b[0m\u001b[0m\n",
      "\u001b[0;32m/cvmfs/sft.cern.ch/lcg/views/LCG_102b_cuda/x86_64-centos7-gcc8-opt/lib/python3.9/site-packages/torch/_tensor.py\u001b[0m in \u001b[0;36m__iter__\u001b[0;34m(self)\u001b[0m\n\u001b[1;32m    702\u001b[0m                           \u001b[0;34m'iterations executed (and might lead to errors or silently give '\u001b[0m\u001b[0;34m\u001b[0m\u001b[0;34m\u001b[0m\u001b[0m\n\u001b[1;32m    703\u001b[0m                           'incorrect results).', category=torch.jit.TracerWarning, stacklevel=2)\n\u001b[0;32m--> 704\u001b[0;31m         \u001b[0;32mreturn\u001b[0m \u001b[0miter\u001b[0m\u001b[0;34m(\u001b[0m\u001b[0mself\u001b[0m\u001b[0;34m.\u001b[0m\u001b[0munbind\u001b[0m\u001b[0;34m(\u001b[0m\u001b[0;36m0\u001b[0m\u001b[0;34m)\u001b[0m\u001b[0;34m)\u001b[0m\u001b[0;34m\u001b[0m\u001b[0;34m\u001b[0m\u001b[0m\n\u001b[0m\u001b[1;32m    705\u001b[0m \u001b[0;34m\u001b[0m\u001b[0m\n\u001b[1;32m    706\u001b[0m     \u001b[0;32mdef\u001b[0m \u001b[0m__hash__\u001b[0m\u001b[0;34m(\u001b[0m\u001b[0mself\u001b[0m\u001b[0;34m)\u001b[0m\u001b[0;34m:\u001b[0m\u001b[0;34m\u001b[0m\u001b[0;34m\u001b[0m\u001b[0m\n",
      "\u001b[0;31mKeyboardInterrupt\u001b[0m: "
     ]
    }
   ],
   "source": [
    "for e in trange(0, nepochs, desc=\"Epoch\"):\n",
    "    \n",
    "    permutation = torch.randperm(N_training_samples).to(\"cuda\")\n",
    "    t = trange(0, N_training_samples, batch_size, desc=\"Batch\")\n",
    "    for i in t:\n",
    "            \n",
    "        indices = permutation[i:i+batch_size]\n",
    "        \n",
    "        optimizer.zero_grad()\n",
    "\n",
    "        logp_g =  flow(Y_scaled[indices]).log_prob(X_scaled[indices])\n",
    "\n",
    "        loss =  - logp_g.mean()\n",
    "        loss.backward()\n",
    "\n",
    "        optimizer.step()     \n",
    "\n",
    "        #plotter.on_epoch_end({\"loss\": loss.item()})\n",
    "        if i % (batch_size *20) == 0:\n",
    "            t.set_description(f\"{loss.item():.4f}\", refresh=True)\n",
    "    \n",
    "#     with torch.no_grad():\n",
    "#         out = flow(Y_scaled[0:30000]).sample((1, )).squeeze(0)\n",
    "#         plt.hist2d(out[:,0].numpy(), \n",
    "#                    Y_scaled[0:30000,0].numpy(), \n",
    "#                    bins=100,cmap=\"inferno\", cmin=1, norm=LogNorm() );\n",
    "#         plt.xlabel(\"Pz generated\")\n",
    "#         plt.ylabel(\"Pz reco (conditioning)\")\n",
    "        \n",
    "#         # plt.hist2d(out[:,0].numpy(), out[:,1].numpy(),\n",
    "#         #    bins=100, cmap=\"inferno\", cmin=1, norm=LogNorm());\n",
    "        \n",
    "#         plt.show()\n",
    "#         plt.close()\n"
   ]
  },
  {
   "cell_type": "code",
   "execution_count": 23,
   "id": "8e3fe8d0-4ffa-4ae9-b6f8-5950faf88b5e",
   "metadata": {},
   "outputs": [
    {
     "data": {
      "text/plain": [
       "torch.Size([584143, 2])"
      ]
     },
     "execution_count": 23,
     "metadata": {},
     "output_type": "execute_result"
    }
   ],
   "source": [
    "out = flow(Y_scaled).sample((1, )).squeeze(0)\n",
    "out.shape\n"
   ]
  },
  {
   "cell_type": "code",
   "execution_count": 24,
   "id": "37201534",
   "metadata": {},
   "outputs": [],
   "source": [
    "flow = flow.cpu()\n",
    "out = out.cpu()\n",
    "X_scaled = X_scaled.cpu()\n",
    "Y_scaled = Y_scaled.cpu()"
   ]
  },
  {
   "cell_type": "code",
   "execution_count": null,
   "id": "0036a6fc-fd3f-4d30-899f-83fc76fd3507",
   "metadata": {},
   "outputs": [],
   "source": [
    "plt.hist2d(out[:,0].numpy(), \n",
    "           Y_scaled[:,0].numpy(), \n",
    "          bins=100,range=[[-10,10],[-10,10]],\n",
    "           cmap=\"inferno\", cmin=1, norm=LogNorm() );\n",
    "plt.xlabel(\"Pz generated\")\n",
    "plt.ylabel(\"Pz reco (conditioning)\")"
   ]
  },
  {
   "cell_type": "code",
   "execution_count": null,
   "id": "ed5d66f9-4364-49ea-8957-74774fb3714b",
   "metadata": {},
   "outputs": [],
   "source": [
    "plt.hist2d(X_scaled[:,0].numpy(),\n",
    "           Y_scaled[:,0].numpy(),\n",
    "           bins=[100,100],\n",
    "           range=[[-10,10],[-10,10]], cmap=\"inferno\", cmin=1, norm=LogNorm());\n",
    "plt.xlabel(\"Pz target (scaled)\")\n",
    "plt.ylabel(\"Pz reco (conditioning) - scaled\")\n",
    "plt.show()"
   ]
  },
  {
   "cell_type": "code",
   "execution_count": null,
   "id": "5e94bfd6-b1c0-4fd1-99c1-526a147fc3ff",
   "metadata": {},
   "outputs": [],
   "source": [
    "plt.hist2d(out[:,1].numpy(), \n",
    "           Y_scaled[:,1].numpy(), \n",
    "          bins=100,cmap=\"inferno\", cmin=1, norm=LogNorm(), range=((-1.5,8),(-2,6)) );\n",
    "plt.xlabel(\"E generated\")\n",
    "plt.ylabel(\"E reco (conditioning)\")"
   ]
  },
  {
   "cell_type": "code",
   "execution_count": null,
   "id": "3b7a0a7b-dce6-4972-baf4-cc97bebd031c",
   "metadata": {},
   "outputs": [],
   "source": [
    "plt.hist2d(X_scaled[:,1].numpy(),\n",
    "           Y_scaled[:,1].numpy(),\n",
    "           bins=[100,100], cmap=\"inferno\", cmin=1,range=((-1.5,8),(-2,6)) , norm=LogNorm());\n",
    "plt.xlabel(\"E target (scaled)\")\n",
    "plt.ylabel(\"E reco (conditioning) - scaled\")"
   ]
  },
  {
   "cell_type": "code",
   "execution_count": null,
   "id": "6774ef2b-72da-4233-88e5-d2e213e43be7",
   "metadata": {},
   "outputs": [],
   "source": [
    "out_back = scaler.inverse_transform(out)"
   ]
  },
  {
   "cell_type": "code",
   "execution_count": null,
   "id": "3fbb834d-e809-4479-a4c1-a42da39fbe18",
   "metadata": {},
   "outputs": [],
   "source": [
    "x1 = (out_back[:,0] + out_back[:,1])/(6500*2)"
   ]
  },
  {
   "cell_type": "code",
   "execution_count": null,
   "id": "41a981d8-ce64-4bd6-8d31-2397e8cc0f2b",
   "metadata": {},
   "outputs": [],
   "source": [
    "x2 = out_back[:,1]/6500  - x1"
   ]
  },
  {
   "cell_type": "code",
   "execution_count": null,
   "id": "5dd73cc0-8552-405f-abd9-faaa9e6af670",
   "metadata": {},
   "outputs": [],
   "source": [
    "plt.hist2d(ak.to_numpy(generator_info.x1),\n",
    "           ak.to_numpy(generator_info.x2),\n",
    "           bins=200, cmap=\"inferno\", cmin=1, norm=LogNorm(), range=((0,1),(0,1)));"
   ]
  },
  {
   "cell_type": "code",
   "execution_count": null,
   "id": "0df74e33",
   "metadata": {
    "scrolled": true
   },
   "outputs": [],
   "source": [
    "\n",
    "x1_cut = x1[(x1 >= 0) * (x2 >= 0)]\n",
    "x2_cut = x2[(x1 >= 0) * (x2 >= 0)]"
   ]
  },
  {
   "cell_type": "code",
   "execution_count": null,
   "id": "889ad272-6650-4cc7-a742-5a1b96def88e",
   "metadata": {
    "scrolled": false
   },
   "outputs": [],
   "source": [
    "plt.hist2d(x1_cut, x2_cut,\n",
    "           bins=200, cmap=\"inferno\", cmin=1, norm=LogNorm(), );"
   ]
  },
  {
   "cell_type": "code",
   "execution_count": null,
   "id": "e9e0adde-9bc3-4361-aa79-edcca3620d91",
   "metadata": {},
   "outputs": [],
   "source": [
    "z, ladj = flow(Y_scaled).transform.call_and_ladj(X_scaled)"
   ]
  },
  {
   "cell_type": "code",
   "execution_count": null,
   "id": "a7fcc106-6950-4c55-a3d8-b1d3346f40e8",
   "metadata": {},
   "outputs": [],
   "source": [
    "plt.hist2d(z[:,0].detach().numpy(), z[:,1].detach().numpy(), bins=100, cmap=\"inferno\",\n",
    "          cmin=1, range=((-5,5),(-5,5)));"
   ]
  },
  {
   "cell_type": "markdown",
   "id": "2382e850-78c0-4553-bdad-be80c9912d5d",
   "metadata": {},
   "source": [
    "# Slice analysis"
   ]
  },
  {
   "cell_type": "code",
   "execution_count": null,
   "id": "7a0c77ac",
   "metadata": {},
   "outputs": [],
   "source": [
    "#TODO: Divide reco space in grid (later triangles), check resuts of flow for each region using Kolmogorov-Smirnov test, \n",
    "#display goodness of flow for each region, package it all into a function that takes flow as input"
   ]
  },
  {
   "cell_type": "code",
   "execution_count": null,
   "id": "6f486f3f",
   "metadata": {},
   "outputs": [],
   "source": [
    "#Q: In presentation, optimal value for KS-test is 0.5, why?\n",
    "\n",
    "#features = target, context = conditioning, transforms = layers of bijections, bins = spline nodes, \n",
    "# hidden_features = neural network nodes\n",
    "# autoregressive vs. coupling: autoregressive more expensive, but more expressive (correlation between dimensions)"
   ]
  },
  {
   "cell_type": "code",
   "execution_count": 25,
   "id": "27feb06c",
   "metadata": {},
   "outputs": [],
   "source": [
    "def select_segments(y, x, pz_range, E_range):\n",
    "    mask = (y > [pz_range[0], E_range[0]]) & (y < [pz_range[1], E_range[1]])\n",
    "    mask = mask[:,0]*mask[:,1]\n",
    "    return y[mask], x[mask]"
   ]
  },
  {
   "cell_type": "code",
   "execution_count": null,
   "id": "175aee11",
   "metadata": {},
   "outputs": [],
   "source": [
    "y_select = select_segments(y_cond, x_target, [seg_pz[5], seg_pz[6]], [seg_E[5], seg_E[6]])\n",
    "print(y_select[0].shape)\n",
    "print(y_select[1].shape)"
   ]
  },
  {
   "cell_type": "code",
   "execution_count": 26,
   "id": "f0b0a832",
   "metadata": {},
   "outputs": [
    {
     "data": {
      "image/png": "[encoded data removed]",
      "text/plain": [
       "<Figure size 720x720 with 1 Axes>"
      ]
     },
     "metadata": {
      "needs_background": "light"
     },
     "output_type": "display_data"
    }
   ],
   "source": [
    "#Dividing reco space\n",
    "\n",
    "pz_range = [-4000, 4000]\n",
    "E_range = [0, 4500]\n",
    "n_pz = 10\n",
    "n_E = 10\n",
    "\n",
    "seg_pz = np.linspace(pz_range[0], pz_range[1], n_pz+1)\n",
    "seg_E = np.linspace(E_range[0], E_range[1], n_E+1)\n",
    "\n",
    "plt.hist2d(y_cond[:,0],\n",
    "           y_cond[:,1],\n",
    "           bins=[100,100], range=[[-4000, 4000], [0,4500]], cmap=\"inferno\", cmin=1, norm=LogNorm());\n",
    "for i in seg_pz:\n",
    "    plt.vlines(seg_pz, E_range[0], E_range[1])\n",
    "    plt.hlines(seg_E, pz_range[0], pz_range[1])\n",
    "plt.xlabel(\"Pz reco (conditioning)\")\n",
    "plt.ylabel(\"E reco (conditioning)\")\n",
    "plt.show()\n"
   ]
  },
  {
   "cell_type": "code",
   "execution_count": 27,
   "id": "77cb82eb",
   "metadata": {},
   "outputs": [],
   "source": [
    "def compare(y, x, pz_range, E_range):\n",
    "    y_select, x_select = select_segments(y, x, pz_range, E_range)\n",
    "    if y_select.shape[0] == 0:\n",
    "        return None\n",
    "    Y_select_scaled = torch.from_numpy(scaler.transform(y_select)).float()\n",
    "    X_select_scaled = torch.from_numpy(scaler.transform(x_select)).float()\n",
    "    out = flow(Y_select_scaled).sample((1, )).squeeze(0)\n",
    "    \n",
    "    print(len(X_select_scaled[:,0].numpy()), len(out[:,0].numpy()))\n",
    "    \n",
    "    plt.hist(X_select_scaled[:,0].numpy(), bins=30, histtype=\"step\", label=\"target\", range=(-5, 5))\n",
    "    plt.hist(out[:,0].numpy(), bins=30, histtype=\"step\", label=\"generated\", range=(-5, 5))\n",
    "    plt.legend()\n",
    "    plt.title(\"pz\")\n",
    "    plt.show()\n",
    "    \n",
    "    plt.hist(X_select_scaled[:,1].numpy(), bins=30, histtype=\"step\", label=\"target\", range=(-5, 10))\n",
    "    plt.hist(out[:,1].numpy(), bins=30, histtype=\"step\", label=\"generated\", range=(-5, 10))\n",
    "    plt.legend()\n",
    "    plt.title(\"E\")\n",
    "    plt.show()\n",
    "    \n",
    "    goodness_pz = scipy.stats.kstest(X_select_scaled[:,0].numpy(), out[:,0].numpy())\n",
    "    print(goodness_pz)\n",
    "    return 0\n",
    "    "
   ]
  },
  {
   "cell_type": "code",
   "execution_count": 28,
   "id": "2fd3f6b1",
   "metadata": {},
   "outputs": [
    {
     "name": "stdout",
     "output_type": "stream",
     "text": [
      "2407 2407\n"
     ]
    },
    {
     "data": {
      "image/png": "[encoded data removed]",
      "text/plain": [
       "<Figure size 720x720 with 1 Axes>"
      ]
     },
     "metadata": {
      "needs_background": "light"
     },
     "output_type": "display_data"
    },
    {
     "data": {
      "image/png": "[encoded data removed]",
      "text/plain": [
       "<Figure size 720x720 with 1 Axes>"
      ]
     },
     "metadata": {
      "needs_background": "light"
     },
     "output_type": "display_data"
    },
    {
     "name": "stdout",
     "output_type": "stream",
     "text": [
      "KstestResult(statistic=0.1154964686331533, pvalue=2.130307713731427e-14)\n"
     ]
    },
    {
     "data": {
      "text/plain": [
       "0"
      ]
     },
     "execution_count": 28,
     "metadata": {},
     "output_type": "execute_result"
    }
   ],
   "source": [
    "compare(y_cond, X, [0,100], [1000,1100])\n"
   ]
  },
  {
   "cell_type": "code",
   "execution_count": 34,
   "id": "7fb3aa18",
   "metadata": {},
   "outputs": [],
   "source": [
    "def goodness(y, x, pz_range, E_range):\n",
    "    y_select, x_select = select_segments(y, x, pz_range, E_range)\n",
    "    if y_select.shape[0] < 10:\n",
    "        return (None, None)\n",
    "    Y_select_scaled = torch.from_numpy(scaler.transform(y_select)).float()\n",
    "    X_select_scaled = torch.from_numpy(scaler.transform(x_select)).float()\n",
    "    out = flow(Y_select_scaled).sample((1, )).squeeze(0)\n",
    "    \n",
    "    pz_goodness = scipy.stats.kstest(X_select_scaled[:,0].numpy(), out[:,0].numpy()).statistic\n",
    "    E_goodness = scipy.stats.kstest(X_select_scaled[:,1].numpy(), out[:,1].numpy()).statistic\n",
    "    \n",
    "    return (pz_goodness, E_goodness)"
   ]
  },
  {
   "cell_type": "code",
   "execution_count": null,
   "id": "ef02adf5",
   "metadata": {},
   "outputs": [],
   "source": [
    "goodness(y_cond, X, [0,100], [1000,1100])"
   ]
  },
  {
   "cell_type": "code",
   "execution_count": 40,
   "id": "c2d07188",
   "metadata": {
    "scrolled": true
   },
   "outputs": [
    {
     "name": "stdout",
     "output_type": "stream",
     "text": [
      "0\n",
      "1\n",
      "2\n",
      "3\n",
      "4\n",
      "5\n",
      "6\n",
      "7\n",
      "8\n",
      "9\n"
     ]
    }
   ],
   "source": [
    "goodness_matrix_pz = np.zeros((n_pz, n_E))\n",
    "goodness_matrix_E = np.zeros((n_pz, n_E))\n",
    "\n",
    "for i in range(n_pz):\n",
    "    print(i)\n",
    "    for j in range(n_E):\n",
    "        pz_goodness, E_goodness = goodness(y_cond, X, [seg_pz[i], seg_pz[i+1]], [seg_E[j], seg_E[j+1]])\n",
    "        goodness_matrix_pz[n_E-j-1, i] = pz_goodness\n",
    "        goodness_matrix_E[n_E-j-1, i] = E_goodness"
   ]
  },
  {
   "cell_type": "code",
   "execution_count": 41,
   "id": "f9ce32d1",
   "metadata": {
    "scrolled": false
   },
   "outputs": [
    {
     "data": {
      "image/png": "[encoded data removed]",
      "text/plain": [
       "<Figure size 720x720 with 2 Axes>"
      ]
     },
     "metadata": {
      "needs_background": "light"
     },
     "output_type": "display_data"
    }
   ],
   "source": [
    "plt.imshow(goodness_matrix_pz, interpolation='none')\n",
    "plt.colorbar()\n",
    "plt.show()"
   ]
  },
  {
   "cell_type": "code",
   "execution_count": 42,
   "id": "376fb213",
   "metadata": {},
   "outputs": [
    {
     "data": {
      "image/png": "[encoded data removed]",
      "text/plain": [
       "<Figure size 720x720 with 2 Axes>"
      ]
     },
     "metadata": {
      "needs_background": "light"
     },
     "output_type": "display_data"
    }
   ],
   "source": [
    "plt.imshow(goodness_matrix_E, interpolation='none')\n",
    "plt.colorbar()\n",
    "plt.show()"
   ]
  },
  {
   "cell_type": "code",
   "execution_count": 43,
   "id": "2ef3bce5",
   "metadata": {},
   "outputs": [
    {
     "data": {
      "image/png": "[encoded data removed]",
      "text/plain": [
       "<Figure size 720x720 with 2 Axes>"
      ]
     },
     "metadata": {
      "needs_background": "light"
     },
     "output_type": "display_data"
    }
   ],
   "source": [
    "goodness_matrix_avg = (goodness_matrix_pz + goodness_matrix_E)*0.5\n",
    "\n",
    "plt.imshow(goodness_matrix_E, interpolation='none')\n",
    "plt.colorbar()\n",
    "plt.show()\n"
   ]
  },
  {
   "cell_type": "markdown",
   "id": "d4854ad8-0ffa-48b1-84c7-db5622e8fa21",
   "metadata": {},
   "source": [
    "## "
   ]
  }
 ],
 "metadata": {
  "kernelspec": {
   "display_name": "Python 3",
   "language": "python",
   "name": "python3"
  },
  "language_info": {
   "codemirror_mode": {
    "name": "ipython",
    "version": 3
   },
   "file_extension": ".py",
   "mimetype": "text/x-python",
   "name": "python",
   "nbconvert_exporter": "python",
   "pygments_lexer": "ipython3",
   "version": "3.9.12"
  }
 },
 "nbformat": 4,
 "nbformat_minor": 5
}
